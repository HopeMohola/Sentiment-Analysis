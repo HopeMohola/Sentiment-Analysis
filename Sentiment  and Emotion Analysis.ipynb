{
 "cells": [
  {
   "cell_type": "code",
   "execution_count": 290,
   "id": "b0d0bcec-5528-48bf-850a-75eb542f2c9a",
   "metadata": {},
   "outputs": [],
   "source": [
    "# Import Libraries\n",
    "import pandas as pd\n",
    "import string\n",
    "import nltk\n",
    "from nltk.corpus import stopwords\n",
    "from nltk.tokenize import word_tokenize\n",
    "from nltk.stem import WordNetLemmatizer\n",
    "import seaborn as sns\n",
    "import matplotlib.pyplot as plt\n",
    "from sklearn.feature_extraction.text import TfidfVectorizer\n",
    "from sklearn.model_selection import train_test_split, cross_val_score, learning_curve\n",
    "from sklearn.linear_model import LogisticRegression\n",
    "from sklearn.metrics import accuracy_score, classification_report\n",
    "from sklearn.model_selection import GridSearchCV\n",
    "from sklearn.svm import SVC\n",
    "from sklearn.ensemble import RandomForestClassifier\n",
    "from sklearn.naive_bayes import MultinomialNB\n",
    "import numpy as np"
   ]
  },
  {
   "cell_type": "code",
   "execution_count": 136,
   "id": "45028e70-65ed-477b-a8bf-4b9bb45b0ed2",
   "metadata": {},
   "outputs": [
    {
     "name": "stderr",
     "output_type": "stream",
     "text": [
      "[nltk_data] Downloading package punkt to\n",
      "[nltk_data]     C:\\Users\\Tsholofelo\\AppData\\Roaming\\nltk_data...\n",
      "[nltk_data]   Package punkt is already up-to-date!\n",
      "[nltk_data] Downloading package stopwords to\n",
      "[nltk_data]     C:\\Users\\Tsholofelo\\AppData\\Roaming\\nltk_data...\n",
      "[nltk_data]   Package stopwords is already up-to-date!\n",
      "[nltk_data] Downloading package wordnet to\n",
      "[nltk_data]     C:\\Users\\Tsholofelo\\AppData\\Roaming\\nltk_data...\n",
      "[nltk_data]   Package wordnet is already up-to-date!\n"
     ]
    },
    {
     "data": {
      "text/plain": [
       "True"
      ]
     },
     "execution_count": 136,
     "metadata": {},
     "output_type": "execute_result"
    }
   ],
   "source": [
    "# Download necessary resources from NLTK\n",
    "nltk.download('punkt')\n",
    "nltk.download('stopwords')\n",
    "nltk.download('wordnet')\n"
   ]
  },
  {
   "cell_type": "code",
   "execution_count": 93,
   "id": "894b20dc-fa9c-4f6c-8a96-4dd1cc255f0f",
   "metadata": {},
   "outputs": [],
   "source": [
    "# Load The Dataset\n",
    "sentiment_path = \"combined_sentiment_data.csv\"\n",
    "emotion_path = \"combined_emotion.csv\""
   ]
  },
  {
   "cell_type": "code",
   "execution_count": 95,
   "id": "44eef0a7-b043-417b-97dd-a993c5f22392",
   "metadata": {},
   "outputs": [],
   "source": [
    "sentiment = pd.read_csv(sentiment_path)\n",
    "emotion = pd.read_csv(emotion_path)"
   ]
  },
  {
   "cell_type": "code",
   "execution_count": 97,
   "id": "eeb16db1-1982-4b7a-8cea-95ed1594ca43",
   "metadata": {},
   "outputs": [
    {
     "name": "stdout",
     "output_type": "stream",
     "text": [
      "<class 'pandas.core.frame.DataFrame'>\n",
      "RangeIndex: 3309 entries, 0 to 3308\n",
      "Data columns (total 2 columns):\n",
      " #   Column     Non-Null Count  Dtype \n",
      "---  ------     --------------  ----- \n",
      " 0   sentence   3309 non-null   object\n",
      " 1   sentiment  3309 non-null   object\n",
      "dtypes: object(2)\n",
      "memory usage: 51.8+ KB\n",
      "<class 'pandas.core.frame.DataFrame'>\n",
      "RangeIndex: 422746 entries, 0 to 422745\n",
      "Data columns (total 2 columns):\n",
      " #   Column    Non-Null Count   Dtype \n",
      "---  ------    --------------   ----- \n",
      " 0   sentence  422746 non-null  object\n",
      " 1   emotion   422746 non-null  object\n",
      "dtypes: object(2)\n",
      "memory usage: 6.5+ MB\n"
     ]
    }
   ],
   "source": [
    "# Display Basic Information About The Dataset\n",
    "sentiment_info = sentiment.info()\n",
    "emotion_info = emotion.info()"
   ]
  },
  {
   "cell_type": "code",
   "execution_count": 99,
   "id": "bcb95a7e-a903-48f6-b832-51fe6d1bb8ca",
   "metadata": {},
   "outputs": [
    {
     "name": "stdout",
     "output_type": "stream",
     "text": [
      "                                            sentence sentiment\n",
      "0  So there is no way for me to plug it in here i...  negative\n",
      "1                        Good case, Excellent value.  positive\n",
      "2                             Great for the jawbone.  positive\n",
      "3  Tied to charger for conversations lasting more...  negative\n",
      "4                                  The mic is great.  positive\n",
      "                                            sentence emotion\n",
      "0      i just feel really helpless and heavy hearted    fear\n",
      "1  ive enjoyed being able to slouch about relax a...     sad\n",
      "2  i gave up my internship with the dmrg and am f...    fear\n",
      "3                         i dont know i feel so lost     sad\n",
      "4  i am a kindergarten teacher and i am thoroughl...    fear\n"
     ]
    }
   ],
   "source": [
    "# Display The First Few Rows To Understand The Structure Od The Dataset\n",
    "print(sentiment.head())\n",
    "print(emotion.head())"
   ]
  },
  {
   "cell_type": "code",
   "execution_count": 101,
   "id": "9c162f77-130c-4386-b5bb-7496ddee77c6",
   "metadata": {},
   "outputs": [],
   "source": [
    "# Check for duplicate sentences in both datasets\n",
    "sentiment_duplicates = sentiment.duplicated(subset=['sentence']).sum()\n",
    "emotion_duplicates = emotion.duplicated(subset=['sentence']).sum()"
   ]
  },
  {
   "cell_type": "code",
   "execution_count": 103,
   "id": "4d63c9f3-f83b-4c82-9ce7-3f840a33d5f3",
   "metadata": {},
   "outputs": [
    {
     "data": {
      "text/plain": [
       "(20, 28924)"
      ]
     },
     "execution_count": 103,
     "metadata": {},
     "output_type": "execute_result"
    }
   ],
   "source": [
    "sentiment_duplicates, emotion_duplicates"
   ]
  },
  {
   "cell_type": "code",
   "execution_count": 105,
   "id": "19d30da0-0216-46bd-ac76-d73f6e618c15",
   "metadata": {},
   "outputs": [],
   "source": [
    "# Remove duplicate sentences\n",
    "sentiment_cleaned = sentiment.drop_duplicates(subset=['sentence']).reset_index(drop=True)\n",
    "emotion_cleaned = emotion.drop_duplicates(subset=['sentence']).reset_index(drop=True)"
   ]
  },
  {
   "cell_type": "code",
   "execution_count": 107,
   "id": "cfa59d4c-7ace-4fa5-8b1c-b19a85bab732",
   "metadata": {},
   "outputs": [],
   "source": [
    "# Verify removal\n",
    "sentiment_duplicates_after = sentiment_cleaned.duplicated(subset=['sentence']).sum()\n",
    "emotion_duplicates_after = emotion_cleaned.duplicated(subset=['sentence']).sum()"
   ]
  },
  {
   "cell_type": "code",
   "execution_count": 109,
   "id": "07e296e0-6a01-4902-aae0-4fd93093c1fa",
   "metadata": {},
   "outputs": [
    {
     "data": {
      "text/plain": [
       "((3289, 2), (393822, 2), 0, 0)"
      ]
     },
     "execution_count": 109,
     "metadata": {},
     "output_type": "execute_result"
    }
   ],
   "source": [
    "sentiment_cleaned.shape, emotion_cleaned.shape, sentiment_duplicates_after, emotion_duplicates_after"
   ]
  },
  {
   "cell_type": "code",
   "execution_count": 113,
   "id": "c8b201a5-9c37-4379-8655-3a6ce1d9bd2c",
   "metadata": {},
   "outputs": [],
   "source": [
    "# Convert to lowercase and strip extra spaces\n",
    "sentiment_cleaned[\"sentence\"] = sentiment_cleaned[\"sentence\"].str.lower().str.strip()\n",
    "emotion_cleaned[\"sentence\"] = emotion_cleaned[\"sentence\"].str.lower().str.strip()"
   ]
  },
  {
   "cell_type": "code",
   "execution_count": 115,
   "id": "7e9e4c9f-3998-48fe-afd0-5c06be4ec564",
   "metadata": {},
   "outputs": [
    {
     "name": "stdout",
     "output_type": "stream",
     "text": [
      "                                            sentence sentiment\n",
      "0  so there is no way for me to plug it in here i...  negative\n",
      "1                        good case, excellent value.  positive\n",
      "2                             great for the jawbone.  positive\n",
      "3  tied to charger for conversations lasting more...  negative\n",
      "4                                  the mic is great.  positive\n",
      "                                            sentence emotion\n",
      "0      i just feel really helpless and heavy hearted    fear\n",
      "1  ive enjoyed being able to slouch about relax a...     sad\n",
      "2  i gave up my internship with the dmrg and am f...    fear\n",
      "3                         i dont know i feel so lost     sad\n",
      "4  i am a kindergarten teacher and i am thoroughl...    fear\n"
     ]
    }
   ],
   "source": [
    "#Show the data with lowercase and no extra spaces\n",
    "print(sentiment_cleaned.head())\n",
    "print(emotion_cleaned.head())\n"
   ]
  },
  {
   "cell_type": "code",
   "execution_count": 117,
   "id": "2957ae12-e566-4cfd-a48e-0c16373c74c9",
   "metadata": {},
   "outputs": [],
   "source": [
    "# Remove punctuation and special characters from the 'sentence' column\n",
    "sentiment_cleaned[\"sentence\"] = sentiment_cleaned[\"sentence\"].str.replace(r\"[^a-zA-Z0-9\\s]\", \"\", regex=True)\n",
    "emotion_cleaned[\"sentence\"] = emotion_cleaned[\"sentence\"].str.replace(r\"[^a-zA-Z0-9\\s]\", \"\", regex=True)"
   ]
  },
  {
   "cell_type": "code",
   "execution_count": 119,
   "id": "2fed2d7c-d872-46c2-8c2f-9984a77577e3",
   "metadata": {},
   "outputs": [
    {
     "name": "stdout",
     "output_type": "stream",
     "text": [
      "                                            sentence sentiment\n",
      "0  so there is no way for me to plug it in here i...  negative\n",
      "1                          good case excellent value  positive\n",
      "2                              great for the jawbone  positive\n",
      "3  tied to charger for conversations lasting more...  negative\n",
      "4                                   the mic is great  positive\n",
      "                                            sentence emotion\n",
      "0      i just feel really helpless and heavy hearted    fear\n",
      "1  ive enjoyed being able to slouch about relax a...     sad\n",
      "2  i gave up my internship with the dmrg and am f...    fear\n",
      "3                         i dont know i feel so lost     sad\n",
      "4  i am a kindergarten teacher and i am thoroughl...    fear\n"
     ]
    }
   ],
   "source": [
    "#Show the data with no punctuation and special chars\n",
    "print(sentiment_cleaned.head())\n",
    "print(emotion_cleaned.head())\n"
   ]
  },
  {
   "cell_type": "code",
   "execution_count": 123,
   "id": "cf505729-277a-4b7c-8d72-1daf8835d15a",
   "metadata": {},
   "outputs": [
    {
     "name": "stderr",
     "output_type": "stream",
     "text": [
      "[nltk_data] Downloading package stopwords to\n",
      "[nltk_data]     C:\\Users\\Tsholofelo\\AppData\\Roaming\\nltk_data...\n",
      "[nltk_data]   Package stopwords is already up-to-date!\n"
     ]
    },
    {
     "data": {
      "text/plain": [
       "True"
      ]
     },
     "execution_count": 123,
     "metadata": {},
     "output_type": "execute_result"
    }
   ],
   "source": [
    "# Download stopwords if not already downloaded\n",
    "nltk.download('stopwords')"
   ]
  },
  {
   "cell_type": "code",
   "execution_count": 125,
   "id": "f1c3b604-fb2c-46e1-a05d-7f6eaacf237b",
   "metadata": {},
   "outputs": [],
   "source": [
    "# Get the list of English stopwords\n",
    "stop_words = set(stopwords.words('english'))"
   ]
  },
  {
   "cell_type": "code",
   "execution_count": 129,
   "id": "877a3816-9f4b-4450-a359-8d4564764e47",
   "metadata": {},
   "outputs": [],
   "source": [
    "# Remove stopwords from sentiment dataset\n",
    "sentiment_cleaned[\"sentence\"] = sentiment_cleaned[\"sentence\"].apply(\n",
    "    lambda x: \" \".join([word for word in x.split() if word.lower() not in stop_words])\n",
    ")"
   ]
  },
  {
   "cell_type": "code",
   "execution_count": 131,
   "id": "9206cb60-a1bd-42c9-af23-df1f18ff0f79",
   "metadata": {},
   "outputs": [],
   "source": [
    "# Remove stopwords from emotion dataset\n",
    "emotion_cleaned[\"sentence\"] = emotion_cleaned[\"sentence\"].apply(\n",
    "    lambda x: \" \".join([word for word in x.split() if word.lower() not in stop_words])\n",
    ")\n"
   ]
  },
  {
   "cell_type": "code",
   "execution_count": 134,
   "id": "51be4322-7553-468d-9688-899a79755ed5",
   "metadata": {},
   "outputs": [
    {
     "name": "stdout",
     "output_type": "stream",
     "text": [
      "                                            sentence sentiment\n",
      "0                    way plug us unless go converter  negative\n",
      "1                          good case excellent value  positive\n",
      "2                                      great jawbone  positive\n",
      "3  tied charger conversations lasting 45 minutesm...  negative\n",
      "4                                          mic great  positive\n",
      "                                            sentence emotion\n",
      "0                 feel really helpless heavy hearted    fear\n",
      "1  ive enjoyed able slouch relax unwind frankly n...     sad\n",
      "2            gave internship dmrg feeling distraught    fear\n",
      "3                                dont know feel lost     sad\n",
      "4  kindergarten teacher thoroughly weary job take...    fear\n"
     ]
    }
   ],
   "source": [
    "# Display cleaned data\n",
    "print(sentiment_cleaned.head())\n",
    "print(emotion_cleaned.head())\n"
   ]
  },
  {
   "cell_type": "code",
   "execution_count": 142,
   "id": "0b2d1c50-eabf-4209-b867-809e7f0d3e95",
   "metadata": {},
   "outputs": [],
   "source": [
    "# Initialize lemmatizer\n",
    "lemmatizer = WordNetLemmatizer()"
   ]
  },
  {
   "cell_type": "code",
   "execution_count": 146,
   "id": "d9deff54-9ae2-4b67-97ec-6fcf8c4c0016",
   "metadata": {},
   "outputs": [],
   "source": [
    "# Lemmatize the sentence column in sentiment\n",
    "sentiment_cleaned[\"sentence\"] = sentiment_cleaned[\"sentence\"].apply(\n",
    "    lambda x: \" \".join([lemmatizer.lemmatize(word) for word in x.split()]))"
   ]
  },
  {
   "cell_type": "code",
   "execution_count": 148,
   "id": "6269870b-0a73-4336-a1a7-a6a8f2ac0cdc",
   "metadata": {},
   "outputs": [],
   "source": [
    "# Lemmatize the sentence column in emotion\n",
    "emotion_cleaned[\"sentence\"] = emotion_cleaned[\"sentence\"].apply(\n",
    "    lambda x: \" \".join([lemmatizer.lemmatize(word) for word in x.split()]))"
   ]
  },
  {
   "cell_type": "code",
   "execution_count": 150,
   "id": "c7167364-5b3d-49df-9e0f-0dac23958522",
   "metadata": {},
   "outputs": [
    {
     "name": "stdout",
     "output_type": "stream",
     "text": [
      "                                                 sentence  emotion\n",
      "0                      feel really helpless heavy hearted     fear\n",
      "1       ive enjoyed able slouch relax unwind frankly n...      sad\n",
      "2                 gave internship dmrg feeling distraught     fear\n",
      "3                                     dont know feel lost      sad\n",
      "4       kindergarten teacher thoroughly weary job take...     fear\n",
      "...                                                   ...      ...\n",
      "393817  cry feel sense loss patient die helped die dig...      joy\n",
      "393818  feel like telling horny devil find site suited...     love\n",
      "393819  feel curious previous early dawn time seek tro...  suprise\n",
      "393820  feel becuase tyranical nature government el sa...    anger\n",
      "393821  think spent time investigating surroundings th...  suprise\n",
      "\n",
      "[393822 rows x 2 columns]\n",
      "                                               sentence sentiment\n",
      "0                        way plug u unless go converter  negative\n",
      "1                             good case excellent value  positive\n",
      "2                                         great jawbone  positive\n",
      "3     tied charger conversation lasting 45 minutesma...  negative\n",
      "4                                             mic great  positive\n",
      "...                                                 ...       ...\n",
      "3284  online anonymity enables freedom expression al...  negative\n",
      "3285  smart city leverage data technology improve ur...  positive\n",
      "3286  biometric identification technology offer conv...  negative\n",
      "3287  data ethic guideline essential ensuring respon...  positive\n",
      "3288  decentralized technology blockchain potential ...  positive\n",
      "\n",
      "[3289 rows x 2 columns]\n"
     ]
    }
   ],
   "source": [
    "print(emotion_cleaned)\n",
    "print(sentiment_cleaned)"
   ]
  },
  {
   "cell_type": "code",
   "execution_count": 154,
   "id": "8e6311d2-3a3d-423c-b1c8-b14b80a34855",
   "metadata": {},
   "outputs": [
    {
     "name": "stdout",
     "output_type": "stream",
     "text": [
      "           sentence sentiment\n",
      "count          3289      3289\n",
      "unique         3231         2\n",
      "top     great phone  positive\n",
      "freq              5      1667\n"
     ]
    }
   ],
   "source": [
    "# Get summary statistics for the sentiment_cleaned dataframe\n",
    "summary_stats = sentiment_cleaned.describe()\n",
    "# Display the summary statistics\n",
    "print(summary_stats)"
   ]
  },
  {
   "cell_type": "markdown",
   "id": "e702d887-c07a-4f35-bb79-d2b1528597f1",
   "metadata": {},
   "source": [
    "from the output, it appears that there are duplicates in the sentence column. \n",
    "The unique count (3231) is less than the count (3289), \n",
    "which means some sentences appear more than once."
   ]
  },
  {
   "cell_type": "code",
   "execution_count": 160,
   "id": "695cb709-d9e7-45a6-8e1a-316509bafa1c",
   "metadata": {},
   "outputs": [
    {
     "name": "stdout",
     "output_type": "stream",
     "text": [
      "                              sentence sentiment\n",
      "count                             3231      3231\n",
      "unique                            3231         2\n",
      "top     way plug u unless go converter  positive\n",
      "freq                                 1      1641\n"
     ]
    }
   ],
   "source": [
    "# Remove duplicate sentences\n",
    "sentiment_cleaned = sentiment_cleaned.drop_duplicates(subset=['sentence'], keep='first')\n",
    "\n",
    "# Check the result\n",
    "print(sentiment_cleaned.describe())"
   ]
  },
  {
   "cell_type": "markdown",
   "id": "79db8abf-3a84-4d0f-970a-7ea69ed50103",
   "metadata": {},
   "source": [
    "from the output, it appears that there are duplicates in the sentence column. \n",
    "The unique count (3231) is less than the count (3289), \n",
    "which means some sentences appear more than once."
   ]
  },
  {
   "cell_type": "code",
   "execution_count": 156,
   "id": "ebf01bc0-1eab-4ed0-8e9c-942f3375c0b4",
   "metadata": {},
   "outputs": [
    {
     "name": "stdout",
     "output_type": "stream",
     "text": [
      "            sentence emotion\n",
      "count         393822  393822\n",
      "unique        381953       6\n",
      "top     feel wronged     joy\n",
      "freq              41  135030\n"
     ]
    }
   ],
   "source": [
    "# Get summary statistics for the emotion_cleaned dataframe\n",
    "summary_stats = emotion_cleaned.describe()\n",
    "# Display the summary statistics\n",
    "print(summary_stats)"
   ]
  },
  {
   "cell_type": "markdown",
   "id": "2ebb938f-88ec-485a-87ca-14564a3222f6",
   "metadata": {},
   "source": [
    "from the output, it appears that there are duplicates in the sentence column. \n",
    "The unique count (381953) is less than the count (393822), \n",
    "which means some sentences appear more than once."
   ]
  },
  {
   "cell_type": "code",
   "execution_count": 166,
   "id": "ebe38e83-b982-4bc8-be40-88aedc3393a6",
   "metadata": {},
   "outputs": [
    {
     "name": "stdout",
     "output_type": "stream",
     "text": [
      "                                  sentence emotion\n",
      "count                               381953  381953\n",
      "unique                              381953       6\n",
      "top     feel really helpless heavy hearted     joy\n",
      "freq                                     1  131242\n"
     ]
    }
   ],
   "source": [
    "# Remove duplicate sentences\n",
    "emotion_cleaned = emotion_cleaned.drop_duplicates(subset=['sentence'], keep='first')\n",
    "\n",
    "# Check the result\n",
    "print(emotion_cleaned.describe())"
   ]
  },
  {
   "cell_type": "code",
   "execution_count": 170,
   "id": "83d21aa2-0593-4b85-9d4a-cc19c4a86c1d",
   "metadata": {},
   "outputs": [
    {
     "name": "stdout",
     "output_type": "stream",
     "text": [
      "Data saved as 'cleaned_sentiment.csv'.\n"
     ]
    }
   ],
   "source": [
    "# Save the cleaned data to a CSV file\n",
    "sentiment_cleaned.to_csv('cleaned_sentiment.csv', index=False)\n",
    "\n",
    "# Confirmation message\n",
    "print(\"Data saved as 'cleaned_sentiment.csv'.\")"
   ]
  },
  {
   "cell_type": "code",
   "execution_count": 172,
   "id": "feb3e690-6f9f-472a-a1b5-2c5d1a5ea837",
   "metadata": {},
   "outputs": [
    {
     "name": "stdout",
     "output_type": "stream",
     "text": [
      "Data saved as 'cleaned_emotion.csv'.\n"
     ]
    }
   ],
   "source": [
    "# Save the cleaned data to a CSV file\n",
    "emotion_cleaned.to_csv('cleaned_emotion.csv', index=False)\n",
    "\n",
    "# Confirmation message\n",
    "print(\"Data saved as 'cleaned_emotion.csv'.\")"
   ]
  },
  {
   "cell_type": "code",
   "execution_count": 178,
   "id": "f4439588-a834-4d38-866c-c788016d563a",
   "metadata": {},
   "outputs": [
    {
     "name": "stderr",
     "output_type": "stream",
     "text": [
      "C:\\Users\\Tsholofelo\\AppData\\Local\\Temp\\ipykernel_7812\\2892238415.py:2: FutureWarning: \n",
      "\n",
      "Passing `palette` without assigning `hue` is deprecated and will be removed in v0.14.0. Assign the `x` variable to `hue` and set `legend=False` for the same effect.\n",
      "\n",
      "  sns.countplot(data=sentiment_cleaned, x='sentiment', palette='Set2')\n"
     ]
    },
    {
     "data": {
      "image/png": "[encoded data removed]",
      "text/plain": [
       "<Figure size 640x480 with 1 Axes>"
      ]
     },
     "metadata": {},
     "output_type": "display_data"
    }
   ],
   "source": [
    "# Plot a bar chart for the 'sentiment' column\n",
    "sns.countplot(data=sentiment_cleaned, x='sentiment', palette='Set2')\n",
    "\n",
    "# Add title and labels\n",
    "plt.title('Sentiment Distribution')\n",
    "plt.xlabel('Sentiment')\n",
    "plt.ylabel('Count')\n",
    "\n",
    "# Show the plot\n",
    "plt.show()"
   ]
  },
  {
   "cell_type": "code",
   "execution_count": 180,
   "id": "012edc57-4901-44d5-ba40-a8661f620877",
   "metadata": {},
   "outputs": [
    {
     "name": "stderr",
     "output_type": "stream",
     "text": [
      "C:\\Users\\Tsholofelo\\AppData\\Local\\Temp\\ipykernel_7812\\3725016269.py:2: FutureWarning: \n",
      "\n",
      "Passing `palette` without assigning `hue` is deprecated and will be removed in v0.14.0. Assign the `x` variable to `hue` and set `legend=False` for the same effect.\n",
      "\n",
      "  sns.countplot(data=emotion_cleaned, x='emotion', palette='Set2')\n"
     ]
    },
    {
     "data": {
      "image/png": "[encoded data removed]",
      "text/plain": [
       "<Figure size 640x480 with 1 Axes>"
      ]
     },
     "metadata": {},
     "output_type": "display_data"
    }
   ],
   "source": [
    "# Plot a bar chart for the 'emotion' column\n",
    "sns.countplot(data=emotion_cleaned, x='emotion', palette='Set2')\n",
    "\n",
    "# Add title and labels\n",
    "plt.title('Emotion Distribution')\n",
    "plt.xlabel('Emotion')\n",
    "plt.ylabel('Count')\n",
    "\n",
    "# Show the plot\n",
    "plt.show()"
   ]
  },
  {
   "cell_type": "code",
   "execution_count": 182,
   "id": "4e300324-42b8-4bfd-ac0c-aaa23435b972",
   "metadata": {},
   "outputs": [
    {
     "data": {
      "image/png": "[encoded data removed]",
      "text/plain": [
       "<Figure size 640x480 with 1 Axes>"
      ]
     },
     "metadata": {},
     "output_type": "display_data"
    }
   ],
   "source": [
    "# Count the occurrences of each sentiment\n",
    "sentiment_counts = sentiment_cleaned['sentiment'].value_counts()\n",
    "\n",
    "# Plot a pie chart\n",
    "sentiment_counts.plot(kind='pie', autopct='%1.1f%%', colors=['#64b5f6', '#ff7043'])\n",
    "\n",
    "# Add title\n",
    "plt.title('Sentiment Distribution')\n",
    "\n",
    "# Show the plot\n",
    "plt.show()"
   ]
  },
  {
   "cell_type": "code",
   "execution_count": 184,
   "id": "a57aaed7-7882-43ea-95e0-20e9afdf3497",
   "metadata": {},
   "outputs": [
    {
     "data": {
      "image/png": "[encoded data removed]",
      "text/plain": [
       "<Figure size 640x480 with 1 Axes>"
      ]
     },
     "metadata": {},
     "output_type": "display_data"
    }
   ],
   "source": [
    "# Count the occurrences of each Emotion\n",
    "emotion_counts = emotion_cleaned['emotion'].value_counts()\n",
    "\n",
    "# Plot a pie chart\n",
    "emotion_counts.plot(kind='pie', autopct='%1.1f%%', colors=['#64b5f6', '#ff7043'])\n",
    "\n",
    "# Add title\n",
    "plt.title('Emotion Distribution')\n",
    "\n",
    "# Show the plot\n",
    "plt.show()"
   ]
  },
  {
   "cell_type": "code",
   "execution_count": 186,
   "id": "57f303e7-ff8f-49dc-8ded-2d05c6ee1d05",
   "metadata": {},
   "outputs": [
    {
     "name": "stdout",
     "output_type": "stream",
     "text": [
      "<class 'pandas.core.frame.DataFrame'>\n",
      "Index: 3231 entries, 0 to 3288\n",
      "Data columns (total 2 columns):\n",
      " #   Column     Non-Null Count  Dtype \n",
      "---  ------     --------------  ----- \n",
      " 0   sentence   3231 non-null   object\n",
      " 1   sentiment  3231 non-null   object\n",
      "dtypes: object(2)\n",
      "memory usage: 75.7+ KB\n",
      "<class 'pandas.core.frame.DataFrame'>\n",
      "Index: 381953 entries, 0 to 393821\n",
      "Data columns (total 2 columns):\n",
      " #   Column    Non-Null Count   Dtype \n",
      "---  ------    --------------   ----- \n",
      " 0   sentence  381953 non-null  object\n",
      " 1   emotion   381953 non-null  object\n",
      "dtypes: object(2)\n",
      "memory usage: 8.7+ MB\n"
     ]
    },
    {
     "data": {
      "text/plain": [
       "None"
      ]
     },
     "metadata": {},
     "output_type": "display_data"
    },
    {
     "data": {
      "text/plain": [
       "None"
      ]
     },
     "metadata": {},
     "output_type": "display_data"
    }
   ],
   "source": [
    "#check the data information\n",
    "display(sentiment_cleaned.info(), emotion_cleaned.info())"
   ]
  },
  {
   "cell_type": "code",
   "execution_count": 194,
   "id": "c3d0c289-aca3-49ff-bb4a-1ec0fbdf4df8",
   "metadata": {},
   "outputs": [
    {
     "name": "stdout",
     "output_type": "stream",
     "text": [
      "    10   12   20   30   40   90  ability  able  absolutely  access  ...  wow  \\\n",
      "0  0.0  0.0  0.0  0.0  0.0  0.0      0.0   0.0         0.0     0.0  ...  0.0   \n",
      "1  0.0  0.0  0.0  0.0  0.0  0.0      0.0   0.0         0.0     0.0  ...  0.0   \n",
      "2  0.0  0.0  0.0  0.0  0.0  0.0      0.0   0.0         0.0     0.0  ...  0.0   \n",
      "3  0.0  0.0  0.0  0.0  0.0  0.0      0.0   0.0         0.0     0.0  ...  0.0   \n",
      "4  0.0  0.0  0.0  0.0  0.0  0.0      0.0   0.0         0.0     0.0  ...  0.0   \n",
      "\n",
      "   writing  written  wrong  year  youd  youll  young  youre  zero  \n",
      "0      0.0      0.0    0.0   0.0   0.0    0.0    0.0    0.0   0.0  \n",
      "1      0.0      0.0    0.0   0.0   0.0    0.0    0.0    0.0   0.0  \n",
      "2      0.0      0.0    0.0   0.0   0.0    0.0    0.0    0.0   0.0  \n",
      "3      0.0      0.0    0.0   0.0   0.0    0.0    0.0    0.0   0.0  \n",
      "4      0.0      0.0    0.0   0.0   0.0    0.0    0.0    0.0   0.0  \n",
      "\n",
      "[5 rows x 1000 columns]\n",
      "    10   12   20   30   40   90  ability      able  absolutely  access  ...  \\\n",
      "0  0.0  0.0  0.0  0.0  0.0  0.0      0.0  0.000000         0.0     0.0  ...   \n",
      "1  0.0  0.0  0.0  0.0  0.0  0.0      0.0  0.358953         0.0     0.0  ...   \n",
      "2  0.0  0.0  0.0  0.0  0.0  0.0      0.0  0.000000         0.0     0.0  ...   \n",
      "3  0.0  0.0  0.0  0.0  0.0  0.0      0.0  0.000000         0.0     0.0  ...   \n",
      "4  0.0  0.0  0.0  0.0  0.0  0.0      0.0  0.000000         0.0     0.0  ...   \n",
      "\n",
      "   wow  writing  written  wrong  year  youd  youll  young  youre  zero  \n",
      "0  0.0      0.0      0.0    0.0   0.0   0.0    0.0    0.0    0.0   0.0  \n",
      "1  0.0      0.0      0.0    0.0   0.0   0.0    0.0    0.0    0.0   0.0  \n",
      "2  0.0      0.0      0.0    0.0   0.0   0.0    0.0    0.0    0.0   0.0  \n",
      "3  0.0      0.0      0.0    0.0   0.0   0.0    0.0    0.0    0.0   0.0  \n",
      "4  0.0      0.0      0.0    0.0   0.0   0.0    0.0    0.0    0.0   0.0  \n",
      "\n",
      "[5 rows x 1000 columns]\n"
     ]
    }
   ],
   "source": [
    "# Initialize the TF-IDF vectorizer\n",
    "tfidf_vectorizer = TfidfVectorizer(stop_words='english', max_features=1000)\n",
    "\n",
    "# Fit and transform the sentiment dataset\n",
    "X_sentiment_tfidf = tfidf_vectorizer.fit_transform(sentiment_cleaned['sentence'])\n",
    "\n",
    "# Transform the emotion dataset (do not fit again)\n",
    "X_emotion_tfidf = tfidf_vectorizer.transform(emotion_cleaned['sentence'])\n",
    "\n",
    "# Convert the results into a DataFrame for readability (optional)\n",
    "sentiment_tfidf = pd.DataFrame(X_sentiment_tfidf.toarray(), columns=tfidf_vectorizer.get_feature_names_out())\n",
    "emotion_tfidf = pd.DataFrame(X_emotion_tfidf.toarray(), columns=tfidf_vectorizer.get_feature_names_out())\n",
    "\n",
    "# Display the first few rows of the TF-IDF matrix\n",
    "print(sentiment_tfidf.head())\n",
    "print(emotion_tfidf.head())"
   ]
  },
  {
   "cell_type": "code",
   "execution_count": 224,
   "id": "82b99334-20b2-4c76-8c0d-6ef3da1b7f5c",
   "metadata": {},
   "outputs": [],
   "source": [
    "# Combine both datasets before vectorization\n",
    "combined_X = pd.concat([emotion_cleaned['sentence'], sentiment_cleaned['sentence']])\n",
    "\n",
    "# Fit on combined data\n",
    "tfidf_vectorizer.fit(combined_X)\n",
    "\n",
    "# Now transform separately\n",
    "X_train_tfidf = tfidf_vectorizer.transform(X_train)\n",
    "X_test_tfidf = tfidf_vectorizer.transform(X_test)\n",
    "X_train1_tfidf = tfidf_vectorizer.transform(X_train1)\n",
    "X_test1_tfidf = tfidf_vectorizer.transform(X_test1)"
   ]
  },
  {
   "cell_type": "code",
   "execution_count": 226,
   "id": "d540bb3e-769e-4e8b-a4d3-74f7925ce4e8",
   "metadata": {},
   "outputs": [],
   "source": [
    "# Emotion Dataset\n",
    "X_emotion = emotion_cleaned['sentence']\n",
    "y_emotion = emotion_cleaned['emotion']\n",
    "\n",
    "# Sentiment Dataset\n",
    "X_sentiment = sentiment_cleaned['sentence']\n",
    "y_sentiment = sentiment_cleaned['sentiment']\n"
   ]
  },
  {
   "cell_type": "code",
   "execution_count": 228,
   "id": "35c2ea4e-42c4-44f7-864a-f5288f06b4c5",
   "metadata": {},
   "outputs": [],
   "source": [
    "# Emotion dataset split\n",
    "X_train1, X_test1, y_train1, y_test1 = train_test_split(X_emotion, y_emotion, test_size=0.2, random_state=42)\n",
    "\n",
    "# Sentiment dataset split\n",
    "X_train, X_test, y_train, y_test = train_test_split(X_sentiment, y_sentiment, test_size=0.2, random_state=42)\n"
   ]
  },
  {
   "cell_type": "code",
   "execution_count": 230,
   "id": "0ba7e9fe-3a4c-48be-877c-fc457354f2c2",
   "metadata": {},
   "outputs": [],
   "source": [
    "# Initialize the TF-IDF vectorizer\n",
    "tfidf_vectorizer = TfidfVectorizer(stop_words='english', max_features=1000)"
   ]
  },
  {
   "cell_type": "code",
   "execution_count": 232,
   "id": "bd665e4c-6f7f-4e55-b67f-c4f6457cd4fa",
   "metadata": {},
   "outputs": [
    {
     "name": "stdout",
     "output_type": "stream",
     "text": [
      "Emotion Dataset Shapes:\n",
      "X_train1: (305562, 1000) | X_test1: (76391, 1000)\n",
      "Sentiment Dataset Shapes:\n",
      "X_train: (2584, 1000) | X_test: (647, 1000)\n"
     ]
    }
   ],
   "source": [
    "#verify the shape of the split data\n",
    "print(\"Emotion Dataset Shapes:\")\n",
    "print(\"X_train1:\", X_train1_tfidf.shape, \"| X_test1:\", X_test1_tfidf.shape)\n",
    "print(\"Sentiment Dataset Shapes:\")\n",
    "print(\"X_train:\", X_train_tfidf.shape, \"| X_test:\", X_test_tfidf.shape)"
   ]
  },
  {
   "cell_type": "code",
   "execution_count": 236,
   "id": "555d3205-2fb9-4ee2-91cb-ad9b53a962a7",
   "metadata": {},
   "outputs": [
    {
     "name": "stdout",
     "output_type": "stream",
     "text": [
      "Sentiment Classification Report:\n",
      "              precision    recall  f1-score   support\n",
      "\n",
      "    negative       0.67      0.79      0.73       301\n",
      "    positive       0.78      0.66      0.72       346\n",
      "\n",
      "    accuracy                           0.72       647\n",
      "   macro avg       0.73      0.73      0.72       647\n",
      "weighted avg       0.73      0.72      0.72       647\n",
      "\n",
      "Sentiment Accuracy: 0.723338485316847\n"
     ]
    }
   ],
   "source": [
    "#Train The Logistic Regression Model On the Sentiment\n",
    "# Initialize Logistic Regression model\n",
    "log_reg_sentiment = LogisticRegression(max_iter=1000, random_state=42)\n",
    "\n",
    "# Train the model on sentiment dataset\n",
    "log_reg_sentiment.fit(X_train_tfidf, y_train)\n",
    "\n",
    "# Predict on the test set\n",
    "y_pred_sentiment = log_reg_sentiment.predict(X_test_tfidf)\n",
    "\n",
    "# Evaluate model performance\n",
    "print(\"Sentiment Classification Report:\")\n",
    "print(classification_report(y_test, y_pred_sentiment))\n",
    "print(\"Sentiment Accuracy:\", accuracy_score(y_test, y_pred_sentiment))"
   ]
  },
  {
   "cell_type": "code",
   "execution_count": 242,
   "id": "86c694e5-02f0-49b6-bb41-0d90049e0a25",
   "metadata": {},
   "outputs": [
    {
     "name": "stdout",
     "output_type": "stream",
     "text": [
      "Best C for Sentiment Logistic Regression: {'C': 1}\n",
      "Optimized Sentiment Logistic Regression Accuracy: 0.723338485316847\n",
      "Optimized Sentiment Logistic Regression Report:\n",
      "               precision    recall  f1-score   support\n",
      "\n",
      "    negative       0.67      0.79      0.73       301\n",
      "    positive       0.78      0.66      0.72       346\n",
      "\n",
      "    accuracy                           0.72       647\n",
      "   macro avg       0.73      0.73      0.72       647\n",
      "weighted avg       0.73      0.72      0.72       647\n",
      "\n"
     ]
    }
   ],
   "source": [
    "#Hyperparameter tuning because the precision and recall are below 70\n",
    "# Define the parameter grid for tuning C\n",
    "param_grid = {'C': [0.01, 0.1, 1, 10, 100]}\n",
    "\n",
    "# Initialize Logistic Regression\n",
    "log_reg = LogisticRegression(max_iter=1000, random_state=42)\n",
    "\n",
    "# Grid Search with 5-fold Cross Validation\n",
    "grid_search_sentiment = GridSearchCV(log_reg, param_grid, cv=5, scoring='accuracy', n_jobs=-1)\n",
    "grid_search_sentiment.fit(X_train_tfidf, y_train)\n",
    "\n",
    "# Best hyperparameter\n",
    "print(\"Best C for Sentiment Logistic Regression:\", grid_search_sentiment.best_params_)\n",
    "\n",
    "# Train with the best parameter\n",
    "best_log_reg_sentiment = LogisticRegression(C=grid_search_sentiment.best_params_['C'], max_iter=1000, random_state=42)\n",
    "best_log_reg_sentiment.fit(X_train_tfidf, y_train)\n",
    "\n",
    "# Predictions\n",
    "y_pred_best_sentiment = best_log_reg_sentiment.predict(X_test_tfidf)\n",
    "\n",
    "# Evaluate the model\n",
    "print(\"Optimized Sentiment Logistic Regression Accuracy:\", accuracy_score(y_test, y_pred_best_sentiment))\n",
    "print(\"Optimized Sentiment Logistic Regression Report:\\n\", classification_report(y_test, y_pred_best_sentiment))\n"
   ]
  },
  {
   "cell_type": "markdown",
   "id": "313f743b-e762-420d-bde5-1220b3a982f0",
   "metadata": {},
   "source": [
    "As observed by the results obtained, tuning wasnt really necessary, so lets move to other models"
   ]
  },
  {
   "cell_type": "code",
   "execution_count": 238,
   "id": "8a79a138-b2ac-4da7-897b-c4e4a0b4996c",
   "metadata": {},
   "outputs": [
    {
     "name": "stdout",
     "output_type": "stream",
     "text": [
      "Emotion Classification Report:\n",
      "              precision    recall  f1-score   support\n",
      "\n",
      "       anger       0.92      0.85      0.88     10570\n",
      "        fear       0.89      0.84      0.87      8396\n",
      "         joy       0.88      0.94      0.91     26151\n",
      "        love       0.88      0.83      0.85      5764\n",
      "         sad       0.93      0.92      0.92     23026\n",
      "     suprise       0.84      0.80      0.82      2484\n",
      "\n",
      "    accuracy                           0.90     76391\n",
      "   macro avg       0.89      0.86      0.88     76391\n",
      "weighted avg       0.90      0.90      0.90     76391\n",
      "\n",
      "Emotion Accuracy: 0.8989802463641005\n"
     ]
    }
   ],
   "source": [
    "#Train The Logistic Regression Model On The Emotion\n",
    "# Initialize Logistic Regression model\n",
    "log_reg_emotion = LogisticRegression(max_iter=1000, random_state=42)\n",
    "\n",
    "# Train the model on emotion dataset\n",
    "log_reg_emotion.fit(X_train1_tfidf, y_train1)\n",
    "\n",
    "# Predict on the test set\n",
    "y_pred_emotion = log_reg_emotion.predict(X_test1_tfidf)\n",
    "\n",
    "# Evaluate model performance\n",
    "print(\"Emotion Classification Report:\")\n",
    "print(classification_report(y_test1, y_pred_emotion))\n",
    "print(\"Emotion Accuracy:\", accuracy_score(y_test1, y_pred_emotion))\n"
   ]
  },
  {
   "cell_type": "code",
   "execution_count": 247,
   "id": "bd29054f-659b-4a10-8187-f8829cce3da3",
   "metadata": {},
   "outputs": [
    {
     "name": "stdout",
     "output_type": "stream",
     "text": [
      "SVM Sentiment Accuracy: 0.7202472952086554\n",
      "SVM Sentiment Classification Report:\n",
      "               precision    recall  f1-score   support\n",
      "\n",
      "    negative       0.67      0.79      0.73       301\n",
      "    positive       0.79      0.66      0.71       346\n",
      "\n",
      "    accuracy                           0.72       647\n",
      "   macro avg       0.73      0.73      0.72       647\n",
      "weighted avg       0.73      0.72      0.72       647\n",
      "\n"
     ]
    }
   ],
   "source": [
    "# Train SVM on Sentiment dataset\n",
    "svm_sentiment = SVC(kernel='linear', C=1)\n",
    "svm_sentiment.fit(X_train_tfidf, y_train)\n",
    "\n",
    "# Predictions\n",
    "y_pred_svm_sentiment = svm_sentiment.predict(X_test_tfidf)\n",
    "\n",
    "# Evaluate the model\n",
    "print(\"SVM Sentiment Accuracy:\", accuracy_score(y_test, y_pred_svm_sentiment))\n",
    "print(\"SVM Sentiment Classification Report:\\n\", classification_report(y_test, y_pred_svm_sentiment))\n"
   ]
  },
  {
   "cell_type": "code",
   "execution_count": 249,
   "id": "34805ed9-5e0c-44db-80a5-ede02a466e4c",
   "metadata": {},
   "outputs": [
    {
     "name": "stdout",
     "output_type": "stream",
     "text": [
      "SVM Emotion Accuracy: 0.7202472952086554\n",
      "SVM Emotion Classification Report:\n",
      "               precision    recall  f1-score   support\n",
      "\n",
      "    negative       0.67      0.79      0.73       301\n",
      "    positive       0.79      0.66      0.71       346\n",
      "\n",
      "    accuracy                           0.72       647\n",
      "   macro avg       0.73      0.73      0.72       647\n",
      "weighted avg       0.73      0.72      0.72       647\n",
      "\n"
     ]
    }
   ],
   "source": [
    "# Train SVM on Emotion dataset\n",
    "svm_emotion = SVC(kernel='linear', C=1)\n",
    "svm_emotion.fit(X_train_tfidf, y_train)\n",
    "\n",
    "# Predictions\n",
    "y_pred_svm_emotion = svm_emotion.predict(X_test_tfidf)\n",
    "\n",
    "# Evaluate the model\n",
    "print(\"SVM Emotion Accuracy:\", accuracy_score(y_test, y_pred_svm_emotion))\n",
    "print(\"SVM Emotion Classification Report:\\n\", classification_report(y_test, y_pred_svm_emotion))\n"
   ]
  },
  {
   "cell_type": "markdown",
   "id": "8cc1b565-0a87-48a0-878b-970fb70f856f",
   "metadata": {},
   "source": [
    "since the accuracy is not below 70%, tuning wont be necessary"
   ]
  },
  {
   "cell_type": "code",
   "execution_count": 256,
   "id": "ff6657d9-8c72-4812-a13a-34eb9800ed42",
   "metadata": {},
   "outputs": [
    {
     "name": "stdout",
     "output_type": "stream",
     "text": [
      "Random Forest Sentiment Accuracy: 0.7217928902627512\n",
      "Random Forest Sentiment Classification Report:\n",
      "               precision    recall  f1-score   support\n",
      "\n",
      "    negative       0.68      0.77      0.72       301\n",
      "    positive       0.77      0.68      0.72       346\n",
      "\n",
      "    accuracy                           0.72       647\n",
      "   macro avg       0.72      0.72      0.72       647\n",
      "weighted avg       0.73      0.72      0.72       647\n",
      "\n"
     ]
    }
   ],
   "source": [
    "# Train Random Forest on Sentiment dataset\n",
    "rf_sentiment = RandomForestClassifier(n_estimators=100, random_state=42)\n",
    "rf_sentiment.fit(X_train_tfidf, y_train)\n",
    "\n",
    "# Predictions\n",
    "y_pred_rf_sentiment = rf_sentiment.predict(X_test_tfidf)\n",
    "\n",
    "# Evaluate the model\n",
    "print(\"Random Forest Sentiment Accuracy:\", accuracy_score(y_test, y_pred_rf_sentiment))\n",
    "print(\"Random Forest Sentiment Classification Report:\\n\", classification_report(y_test, y_pred_rf_sentiment))\n"
   ]
  },
  {
   "cell_type": "code",
   "execution_count": 258,
   "id": "8e5f2e3e-14be-464d-acb0-80fc613d13aa",
   "metadata": {},
   "outputs": [
    {
     "name": "stdout",
     "output_type": "stream",
     "text": [
      "Random Forest Emotion Accuracy: 0.7217928902627512\n",
      "Random Forest Emotion Classification Report:\n",
      "               precision    recall  f1-score   support\n",
      "\n",
      "    negative       0.68      0.77      0.72       301\n",
      "    positive       0.77      0.68      0.72       346\n",
      "\n",
      "    accuracy                           0.72       647\n",
      "   macro avg       0.72      0.72      0.72       647\n",
      "weighted avg       0.73      0.72      0.72       647\n",
      "\n"
     ]
    }
   ],
   "source": [
    "# Train Random Forest on Emotion dataset\n",
    "rf_emotion = RandomForestClassifier(n_estimators=100, random_state=42)\n",
    "rf_emotion.fit(X_train_tfidf, y_train)\n",
    "\n",
    "# Predictions\n",
    "y_pred_rf_emotion = rf_emotion.predict(X_test_tfidf)\n",
    "\n",
    "# Evaluate the model\n",
    "print(\"Random Forest Emotion Accuracy:\", accuracy_score(y_test, y_pred_rf_emotion))\n",
    "print(\"Random Forest Emotion Classification Report:\\n\", classification_report(y_test, y_pred_rf_emotion))\n"
   ]
  },
  {
   "cell_type": "code",
   "execution_count": null,
   "id": "bca2df25-d0bb-44dc-bb95-07d5decbd4ff",
   "metadata": {},
   "outputs": [],
   "source": []
  }
 ],
 "metadata": {
  "kernelspec": {
   "display_name": "Python 3 (ipykernel)",
   "language": "python",
   "name": "python3"
  },
  "language_info": {
   "codemirror_mode": {
    "name": "ipython",
    "version": 3
   },
   "file_extension": ".py",
   "mimetype": "text/x-python",
   "name": "python",
   "nbconvert_exporter": "python",
   "pygments_lexer": "ipython3",
   "version": "3.12.4"
  }
 },
 "nbformat": 4,
 "nbformat_minor": 5
}
